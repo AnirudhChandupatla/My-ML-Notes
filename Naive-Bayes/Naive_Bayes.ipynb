{
  "nbformat": 4,
  "nbformat_minor": 0,
  "metadata": {
    "colab": {
      "name": "Naive Bayes.ipynb",
      "version": "0.3.2",
      "provenance": [],
      "include_colab_link": true
    },
    "kernelspec": {
      "name": "python3",
      "display_name": "Python 3"
    }
  },
  "cells": [
    {
      "cell_type": "markdown",
      "metadata": {
        "id": "view-in-github",
        "colab_type": "text"
      },
      "source": [
        "[View in Colaboratory](https://colab.research.google.com/github/anirudh991/My-ML-Notes/blob/master/Naive-Bayes/Naive_Bayes.ipynb)"
      ]
    },
    {
      "metadata": {
        "id": "4LaO4Oul9qIC",
        "colab_type": "text"
      },
      "cell_type": "markdown",
      "source": [
        "## ***pros:***\n",
        "\n",
        "    -> Simple and fast.\n",
        "    \n",
        "    -> Works well even with less data."
      ]
    },
    {
      "metadata": {
        "id": "9IZ4D3IBecWZ",
        "colab_type": "text"
      },
      "cell_type": "markdown",
      "source": [
        "## ***some good references:***\n",
        "\n",
        "[Ref1](https://www.geeksforgeeks.org/naive-bayes-classifiers/)\n",
        "\n",
        "[Ref2](https://www.analyticsvidhya.com/blog/2017/09/naive-bayes-explained/)\n",
        "\n",
        "[Probabilistic Derivation](https://en.wikipedia.org/wiki/Naive_Bayes_classifier#Probabilistic_model)\n",
        "\n",
        "[extra](https://towardsdatascience.com/naive-bayes-in-machine-learning-f49cc8f831b4)"
      ]
    },
    {
      "metadata": {
        "id": "rNkHhkKCeYmY",
        "colab_type": "code",
        "colab": {}
      },
      "cell_type": "code",
      "source": [
        ""
      ],
      "execution_count": 0,
      "outputs": []
    }
  ]
}