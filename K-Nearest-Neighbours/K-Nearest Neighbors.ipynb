{
  "nbformat": 4,
  "nbformat_minor": 0,
  "metadata": {
    "colab": {
      "name": "K-Nearest Neighbors.ipynb",
      "version": "0.3.2",
      "views": {},
      "default_view": {},
      "provenance": [],
      "collapsed_sections": []
    },
    "kernelspec": {
      "name": "python3",
      "display_name": "Python 3"
    }
  },
  "cells": [
    {
      "metadata": {
        "id": "zKu-9iHwWtde",
        "colab_type": "text"
      },
      "cell_type": "markdown",
      "source": [
        "# K-Nearest Neighbors Notes\n",
        "\n",
        "\n"
      ]
    },
    {
      "metadata": {
        "id": "KzPdbd3ZjCvf",
        "colab_type": "text"
      },
      "cell_type": "markdown",
      "source": [
        "## *Key Idea:*\n",
        "\n",
        "\n",
        "![alt text](https://github.com/anirudh991/My-ML-Notes/blob/master/K-Nearest-Neighbours/pictures/key_idea.jpg?raw=true)\n",
        "\n",
        "## *Note*: \n",
        "-> Always keep ' K ' Odd to avoid ties in class voting\n",
        "\n",
        "   ![alt text](https://github.com/anirudh991/My-ML-Notes/blob/master/K-Nearest-Neighbours/pictures/even-k.png?raw=true)\n",
        "   \n",
        "  "
      ]
    },
    {
      "metadata": {
        "id": "V1HqZHEdNIqM",
        "colab_type": "text"
      },
      "cell_type": "markdown",
      "source": [
        " \n",
        " ## *Failure Cases:*\n",
        " \n",
        "-> Our data must be well groupes and well seperated else below are some cases where KNN fails,\n",
        " \n",
        " ![alt text](https://github.com/anirudh991/My-ML-Notes/blob/master/K-Nearest-Neighbours/pictures/outlier-ex.png?raw=true)\n",
        " \n",
        "\n",
        " \n",
        " ![alt text](https://github.com/anirudh991/My-ML-Notes/blob/master/K-Nearest-Neighbours/pictures/random-data.png?raw=true)"
      ]
    },
    {
      "metadata": {
        "id": "14Ck00mANMgf",
        "colab_type": "text"
      },
      "cell_type": "markdown",
      "source": [
        "## *Distance Measures used in KNN:*\n",
        "\n",
        "![alt text](https://github.com/anirudh991/My-ML-Notes/blob/master/K-Nearest-Neighbours/pictures/KNN_similarity.png?raw=true)\n",
        "\n",
        "![alt text](https://github.com/anirudh991/My-ML-Notes/blob/master/K-Nearest-Neighbours/pictures/hamm.png?raw=true)\n",
        "\n",
        "->Hamming distance is used in text featurising especially for detecting similarities b/w strings like human gene (ACTGATCAGTAC....)"
      ]
    },
    {
      "metadata": {
        "id": "oYwQluknI0iy",
        "colab_type": "text"
      },
      "cell_type": "markdown",
      "source": [
        "## *Cosine Similarity:*\n",
        "\n",
        "![alt text](https://github.com/anirudh991/My-ML-Notes/blob/master/K-Nearest-Neighbours/pictures/cos-sim.png?raw=true)"
      ]
    },
    {
      "metadata": {
        "id": "f41lC9yHSmde",
        "colab_type": "text"
      },
      "cell_type": "markdown",
      "source": [
        "## *Space and Time Complexity:*\n",
        "\n",
        " **Training Time(i.e computing distances not actual training) and Space = O( no_data_pts * dim)**\n",
        " \n",
        " This is a huge setback for this algorithm !!! as it needs high configured hardware and large time.\n",
        " \n",
        " Theoretical Improvements,\n",
        "*  Pre-sort training data into fast data structures\n",
        "*  Compute only an approximate distance\n",
        "*  Remove redundant data (condensing)\n",
        "\n"
      ]
    },
    {
      "metadata": {
        "id": "rbpk29-RTp5t",
        "colab_type": "text"
      },
      "cell_type": "markdown",
      "source": [
        "##*Choice of Nearest Neighbors Algorithm:*\n",
        "\n",
        "Query time of knn for different algo's are like,\n",
        "\n",
        "-> **Brute force** : O(  no_data_pts * dim )\n",
        "\n",
        "-> **Ball tree** : O( log(no_data_pts) * dim)\n",
        "\n",
        "-> **kd-tree** : for dim =< 20 O( log(no_data_pts) * dim)\n",
        "                            else O( no_data_pts * dim)\n",
        "                            \n",
        " -> in case of **Ball tree** and **kd-tree** to get above query times **'K' must be small**\n",
        " \n",
        " -> **Brute force** performs well in case of **small no_data_pts and dim**."
      ]
    },
    {
      "metadata": {
        "id": "DUS2CnLCfmDN",
        "colab_type": "text"
      },
      "cell_type": "markdown",
      "source": [
        "##*Choosing the right 'k':*\n",
        "\n",
        "![alt text](https://github.com/anirudh991/My-ML-Notes/blob/master/K-Nearest-Neighbours/pictures/effect-of-k.png?raw=true)\n",
        "\n",
        "-> First diagram is case of **overfit** with **k = 1** or **a smaller k which isn't suited for out training data** and this we give importance to noise which is not good.\n",
        "\n",
        "-> When **k = n** or **k is very near to n** we **underfit** .\n",
        "\n",
        "-> To choose right 'k' we will use cross validation"
      ]
    },
    {
      "metadata": {
        "id": "WhbQY1UeiQoF",
        "colab_type": "text"
      },
      "cell_type": "markdown",
      "source": [
        "**Note:**\n",
        "\n",
        "-> **D-train **, is to **fit a mathematical function or algorithm** on our training data.\n",
        "\n",
        "-> **D-test** , is for **hyperparameter tunning**.\n",
        "\n",
        "-> **D-cross_validate** , is for getting **accuracy score**.\n",
        "\n",
        "and where D-train + D-test + D-cross_validate = Dn(i.e all the available data)"
      ]
    },
    {
      "metadata": {
        "id": "TFGvFksVWjQs",
        "colab_type": "code",
        "colab": {
          "autoexec": {
            "startup": false,
            "wait_interval": 0
          }
        }
      },
      "cell_type": "code",
      "source": [
        ""
      ],
      "execution_count": 0,
      "outputs": []
    }
  ]
}
