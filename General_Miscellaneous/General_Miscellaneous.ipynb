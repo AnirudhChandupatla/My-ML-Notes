{
  "nbformat": 4,
  "nbformat_minor": 0,
  "metadata": {
    "colab": {
      "name": "General / Miscellaneous.ipynb",
      "version": "0.3.2",
      "views": {},
      "default_view": {},
      "provenance": []
    },
    "kernelspec": {
      "name": "python3",
      "display_name": "Python 3"
    }
  },
  "cells": [
    {
      "metadata": {
        "id": "GjNtzlpNuyjD",
        "colab_type": "text"
      },
      "cell_type": "markdown",
      "source": [
        "##*K/N-fold Cross Validation:*\n",
        "\n",
        "![alt text](https://github.com/anirudh991/My-ML-Notes/blob/master/K-Nearest-Neighbours/pictures/k-fold.png?raw=true)\n",
        "\n",
        "-> This method can be used for almost all ML algorithms.\n",
        "\n",
        "-> Follow the above procedure for a single Hyper Parameter(HP) amongst a set.\n",
        "\n",
        "-> We can keep 90% / 95% of Data set( D ) for training and 10% or 5% for testing if we do this manually \n",
        "\n",
        "-> lets say we have 1000 data_pts and we'd trained a model on 90% of D i.e 900 data_pts then can't we get accuracy score using remaining 100 data_pts.\n",
        "\n",
        "Like,\n",
        "\n",
        "    intermediate_metrics = [] \n",
        "\n",
        "    for HP in set_of_HP's:\n",
        "\n",
        "        Fold_metrics = []  \n",
        "\n",
        "        while i < N:\n",
        "\n",
        "           Fold i : Cross validate using HP --->> get metric-i\n",
        "           \n",
        "           append metric-i to Fold_metrics\n",
        "           \n",
        "           increment i\n",
        "           \n",
        "        append {avg(Fold_metrics) and HP} to intermediare_metrics\n",
        "        \n",
        "    Finally choose the best required Hyper Parameter(HP) from intermediate_metrics based on avg(Fold_metrics)--This could be Accuracy or log-loss or etc.\n",
        "    \n",
        "    Easiest way is to plot a graph between HP's and avg(Fold_metrics)\n",
        "    \n",
        "-> Do keep number of folds i.e N always less than 10, even for 10 it takes much time. \n",
        "\n",
        "-> There is a way around it by using **Intel's Distribution for Python** since it's significantly faster than traditional python and you can get all the necessary ML libraries in it which is not the case with Pypy. \n",
        "       "
      ]
    },
    {
      "metadata": {
        "id": "hqy4x6_6uxxj",
        "colab_type": "code",
        "colab": {
          "autoexec": {
            "startup": false,
            "wait_interval": 0
          }
        }
      },
      "cell_type": "code",
      "source": [
        ""
      ],
      "execution_count": 0,
      "outputs": []
    }
  ]
}