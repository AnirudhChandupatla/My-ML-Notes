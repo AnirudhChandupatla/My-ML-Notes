{
  "nbformat": 4,
  "nbformat_minor": 0,
  "metadata": {
    "colab": {
      "name": "Logistic Regression.ipynb",
      "version": "0.3.2",
      "provenance": []
    },
    "kernelspec": {
      "name": "python3",
      "display_name": "Python 3"
    }
  },
  "cells": [
    {
      "metadata": {
        "id": "VVNrJv5ExqSe",
        "colab_type": "text"
      },
      "cell_type": "markdown",
      "source": [
        "# *Logistic Regression:*"
      ]
    },
    {
      "metadata": {
        "id": "8FS4VJ0b7DHc",
        "colab_type": "text"
      },
      "cell_type": "markdown",
      "source": [
        "## ***Assumption:***\n",
        "\n",
        "    Data is almost linearly seperable."
      ]
    },
    {
      "metadata": {
        "id": "WBHo2j885eXl",
        "colab_type": "text"
      },
      "cell_type": "markdown",
      "source": [
        "## *Optimization Statement:*\n",
        "\n",
        "![alt text](https://github.com/anirudh991/My-ML-Notes/blob/master/Logistic_Regression/images/logst_plane.png?raw=true)\n",
        "\n",
        "**W<sup>*</sup> = argmax<sub>(W)</sub> W<sup>T</sup>.X + C**('C' is the intercept)"
      ]
    },
    {
      "metadata": {
        "id": "N28j9V2Qxk0D",
        "colab_type": "code",
        "colab": {}
      },
      "cell_type": "code",
      "source": [
        ""
      ],
      "execution_count": 0,
      "outputs": []
    }
  ]
}