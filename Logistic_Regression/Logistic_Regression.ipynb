{
  "nbformat": 4,
  "nbformat_minor": 0,
  "metadata": {
    "colab": {
      "name": "Logistic Regression.ipynb",
      "version": "0.3.2",
      "provenance": []
    },
    "kernelspec": {
      "name": "python3",
      "display_name": "Python 3"
    }
  },
  "cells": [
    {
      "metadata": {
        "id": "VVNrJv5ExqSe",
        "colab_type": "text"
      },
      "cell_type": "markdown",
      "source": [
        "# *Logistic Regression:*\n",
        "\n",
        "'Regression' is only in name but actually a Classification algorithm."
      ]
    },
    {
      "metadata": {
        "id": "8FS4VJ0b7DHc",
        "colab_type": "text"
      },
      "cell_type": "markdown",
      "source": [
        "## ***Assumption:***\n",
        "\n",
        "    Data is almost linearly seperable."
      ]
    },
    {
      "metadata": {
        "id": "WBHo2j885eXl",
        "colab_type": "text"
      },
      "cell_type": "markdown",
      "source": [
        "## *Optimization Statement:*\n",
        "\n",
        "![alt text](https://github.com/anirudh991/My-ML-Notes/blob/master/Logistic_Regression/images/lgt.gif?raw=true)\n",
        "\n",
        "**W<sup>*</sup> = argmax<sub>(W)</sub> W<sup>T</sup>.X + C**('C' is the intercept)\n",
        "\n",
        "Numerical Representation of class label: **Y<sub>i</sub>={ +1 , -1}**\n",
        "\n",
        "To check whether point is been **correctly classified or not ,**\n",
        "\n",
        "**Y.W<sup>*</sup>.X > 0 correct **\n",
        "\n",
        "**Y.W<sup>*</sup>.X < 0 incorrect** \n",
        "\n",
        "say we found our optimal W(i.e W<sup>*</sup>) then\n",
        "\n",
        "**case 1**: X<sub>i</sub> is a +ve point and   Y<sub>i</sub> = +1 then\n",
        "\n",
        "Y<sub>i</sub>.(W<sup>*</sup><sup>T</sup>.X<sub>i</sub>) > 0 since  W<sup>*</sup>.X<sub>i</sub> >0  i.e  X<sub>i</sub>  and W<sup>*</sup> are on same side \n",
        "\n",
        "and similarlly X<sub>j</sub> is a -ve point and Y<sub>j</sub> = -1\n",
        "\n",
        "Y<sub>j</sub>.(W<sup>*</sup><sup>T</sup>.X<sub>j</sub>) > 0 since  W<sup>*</sup>.X<sub>j</sub> <0  i.e  X<sub>j</sub>  and W<sup>*</sup> are on opposite side \n",
        "\n",
        "\n",
        "**case 2**: say X<sub>k</sub> is a +ve point i.e below  W<sup>*</sup>  and   Y<sub>k</sub> = +1 then\n",
        "\n",
        "but Y<sub>k</sub>.(W<sup>*</sup><sup>T</sup>.X<sub>k</sub>) < 0 since  W<sup>*</sup>.X<sub>k</sub> <0  i.e  X<sub>k</sub>  and W<sup>*</sup> are on opposite side \n",
        "\n",
        "and similarlly X<sub>m</sub> is a -ve point and Y<sub>m</sub> = -1\n",
        "\n",
        "but Y<sub>m</sub>.(W<sup>*</sup>.<sup>T</sup>X<sub>m</sub>) < 0 since  W<sup>*</sup>.X<sub>m</sub> >0  i.e  X<sub>m</sub>  and W<sup>*</sup> are on same side\n",
        "\n",
        "![alt text](https://github.com/anirudh991/My-ML-Notes/blob/master/Logistic_Regression/images/crtnspng.png?raw=true)"
      ]
    },
    {
      "metadata": {
        "id": "N28j9V2Qxk0D",
        "colab_type": "code",
        "colab": {}
      },
      "cell_type": "code",
      "source": [
        ""
      ],
      "execution_count": 0,
      "outputs": []
    }
  ]
}