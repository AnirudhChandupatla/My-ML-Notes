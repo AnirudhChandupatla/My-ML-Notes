{
  "nbformat": 4,
  "nbformat_minor": 0,
  "metadata": {
    "colab": {
      "name": "Logistic Regression.ipynb",
      "version": "0.3.2",
      "provenance": []
    },
    "kernelspec": {
      "name": "python3",
      "display_name": "Python 3"
    }
  },
  "cells": [
    {
      "metadata": {
        "id": "VVNrJv5ExqSe",
        "colab_type": "text"
      },
      "cell_type": "markdown",
      "source": [
        "# *Logistic Regression:*\n",
        "\n",
        "'Regression' is only in name but actually a Classification algorithm."
      ]
    },
    {
      "metadata": {
        "id": "WBHo2j885eXl",
        "colab_type": "text"
      },
      "cell_type": "markdown",
      "source": [
        "## *Key Idea:*\n",
        "\n",
        "![alt text](https://github.com/anirudh991/My-ML-Notes/blob/master/Logistic_Regression/images/lgstrg.gif?raw=true)\n",
        "\n",
        "**X = {x1,x2....xn}** \n",
        "\n",
        "**length of vector 'W' and any 'Xi' **is **no.of features/dimensionality** of the data you're having "
      ]
    },
    {
      "metadata": {
        "id": "N28j9V2Qxk0D",
        "colab_type": "code",
        "colab": {}
      },
      "cell_type": "code",
      "source": [
        ""
      ],
      "execution_count": 0,
      "outputs": []
    }
  ]
}